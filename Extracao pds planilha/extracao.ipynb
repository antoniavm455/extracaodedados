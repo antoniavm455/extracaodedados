{
 "cells": [
  {
   "cell_type": "code",
   "execution_count": 1,
   "id": "85cd3b0e",
   "metadata": {},
   "outputs": [],
   "source": [
    "grobid_server = \"https://kermitt2-grobid.hf.space\""
   ]
  },
  {
   "cell_type": "code",
   "execution_count": 2,
   "id": "d4ac3a1a",
   "metadata": {},
   "outputs": [
    {
     "name": "stdout",
     "output_type": "stream",
     "text": [
      "Requirement already satisfied: requests in c:\\users\\anton\\appdata\\local\\packages\\pythonsoftwarefoundation.python.3.11_qbz5n2kfra8p0\\localcache\\local-packages\\python311\\site-packages (2.32.5)\n",
      "Requirement already satisfied: charset_normalizer<4,>=2 in c:\\users\\anton\\appdata\\local\\packages\\pythonsoftwarefoundation.python.3.11_qbz5n2kfra8p0\\localcache\\local-packages\\python311\\site-packages (from requests) (3.4.3)\n",
      "Requirement already satisfied: idna<4,>=2.5 in c:\\users\\anton\\appdata\\local\\packages\\pythonsoftwarefoundation.python.3.11_qbz5n2kfra8p0\\localcache\\local-packages\\python311\\site-packages (from requests) (3.10)\n",
      "Requirement already satisfied: urllib3<3,>=1.21.1 in c:\\users\\anton\\appdata\\local\\packages\\pythonsoftwarefoundation.python.3.11_qbz5n2kfra8p0\\localcache\\local-packages\\python311\\site-packages (from requests) (2.5.0)\n",
      "Requirement already satisfied: certifi>=2017.4.17 in c:\\users\\anton\\appdata\\local\\packages\\pythonsoftwarefoundation.python.3.11_qbz5n2kfra8p0\\localcache\\local-packages\\python311\\site-packages (from requests) (2025.8.3)\n"
     ]
    },
    {
     "name": "stderr",
     "output_type": "stream",
     "text": [
      "\n",
      "[notice] A new release of pip is available: 24.0 -> 25.2\n",
      "[notice] To update, run: C:\\Users\\anton\\AppData\\Local\\Microsoft\\WindowsApps\\PythonSoftwareFoundation.Python.3.11_qbz5n2kfra8p0\\python.exe -m pip install --upgrade pip\n"
     ]
    }
   ],
   "source": [
    "!pip install requests"
   ]
  },
  {
   "cell_type": "code",
   "execution_count": 3,
   "id": "0aa6c644",
   "metadata": {},
   "outputs": [
    {
     "name": "stdout",
     "output_type": "stream",
     "text": [
      "checking https://kermitt2-grobid.hf.space/api/isalive...\n",
      "checked!\n",
      "Server is up and running at https://kermitt2-grobid.hf.space/api/isalive.\n"
     ]
    }
   ],
   "source": [
    "import requests\n",
    "\n",
    "def check_grobid_server():\n",
    "    url = f\"{grobid_server}/api/isalive\"\n",
    "    \n",
    "    try:\n",
    "        # Send a GET request to the URL\n",
    "        # \n",
    "        print(f\"checking {url}...\")\n",
    "        response = requests.get(url)\n",
    "        print(\"checked!\")\n",
    "\n",
    "        # Check if the status code indicates success (200-299)\n",
    "        if response.status_code == 200 and response.text == \"true\":\n",
    "            print(f\"Server is up and running at {url}.\")\n",
    "            return True\n",
    "        else:\n",
    "            print(f\"Server responded with status code: {response.status_code}\")\n",
    "            return False\n",
    "    \n",
    "    except requests.ConnectionError:\n",
    "        print(f\"Unable to connect to {url}. The server may be down or unreachable.\")\n",
    "        return False\n",
    "    \n",
    "# Test the server\n",
    "assert check_grobid_server()"
   ]
  },
  {
   "cell_type": "code",
   "execution_count": 8,
   "id": "3fb32a0c",
   "metadata": {},
   "outputs": [
    {
     "name": "stdout",
     "output_type": "stream",
     "text": [
      "I have 21 files to process!\n"
     ]
    }
   ],
   "source": [
    "input_path = \"C:/Users/anton/OneDrive/Área de Trabalho/extracao/data/raw\"\n",
    "output_path = \"..\\data/interim\"  # Replace with the desired output folder path\n",
    "\n",
    "import os\n",
    "\n",
    "\n",
    "# Make sure the output folder exists\n",
    "if not os.path.exists(output_path):\n",
    "    os.makedirs(output_path)\n",
    "\n",
    "# List all files in the folder\n",
    "files = []\n",
    "\n",
    "for filename in os.listdir(input_path):\n",
    "    file_path = os.path.join(input_path, filename)\n",
    "    if os.path.isfile(file_path):\n",
    "        # Add the file and its size to the list\n",
    "        files.append((file_path, os.path.getsize(file_path)))\n",
    "\n",
    "print(f\"I have {len(files)} files to process!\")\n"
   ]
  },
  {
   "cell_type": "code",
   "execution_count": 9,
   "id": "4d9a60cd",
   "metadata": {},
   "outputs": [
    {
     "name": "stdout",
     "output_type": "stream",
     "text": [
      "Collecting tqdm\n",
      "  Downloading tqdm-4.67.1-py3-none-any.whl.metadata (57 kB)\n",
      "     ---------------------------------------- 0.0/57.7 kB ? eta -:--:--\n",
      "     ------------- ------------------------ 20.5/57.7 kB 217.9 kB/s eta 0:00:01\n",
      "     -------------------- ----------------- 30.7/57.7 kB 217.9 kB/s eta 0:00:01\n",
      "     --------------------------------- ---- 51.2/57.7 kB 327.7 kB/s eta 0:00:01\n",
      "     --------------------------------- ---- 51.2/57.7 kB 327.7 kB/s eta 0:00:01\n",
      "     --------------------------------- ---- 51.2/57.7 kB 327.7 kB/s eta 0:00:01\n",
      "     -------------------------------------- 57.7/57.7 kB 189.7 kB/s eta 0:00:00\n",
      "Requirement already satisfied: colorama in c:\\users\\anton\\appdata\\local\\packages\\pythonsoftwarefoundation.python.3.11_qbz5n2kfra8p0\\localcache\\local-packages\\python311\\site-packages (from tqdm) (0.4.6)\n",
      "Downloading tqdm-4.67.1-py3-none-any.whl (78 kB)\n",
      "   ---------------------------------------- 0.0/78.5 kB ? eta -:--:--\n",
      "   ------------------------------------ --- 71.7/78.5 kB ? eta -:--:--\n",
      "   ---------------------------------------- 78.5/78.5 kB 726.6 kB/s eta 0:00:00\n",
      "Installing collected packages: tqdm\n",
      "Successfully installed tqdm-4.67.1\n"
     ]
    },
    {
     "name": "stderr",
     "output_type": "stream",
     "text": [
      "\n",
      "[notice] A new release of pip is available: 24.0 -> 25.2\n",
      "[notice] To update, run: C:\\Users\\anton\\AppData\\Local\\Microsoft\\WindowsApps\\PythonSoftwareFoundation.Python.3.11_qbz5n2kfra8p0\\python.exe -m pip install --upgrade pip\n"
     ]
    }
   ],
   "source": [
    "!pip install tqdm"
   ]
  },
  {
   "cell_type": "code",
   "execution_count": 10,
   "id": "6b064d2c",
   "metadata": {},
   "outputs": [
    {
     "name": "stderr",
     "output_type": "stream",
     "text": [
      "Processando arquivos:   0%|          | 0/21 [00:00<?, ?file/s]"
     ]
    },
    {
     "name": "stdout",
     "output_type": "stream",
     "text": [
      "Trying to extract C:/Users/anton/OneDrive/Área de Trabalho/extracao/data/raw\\Austrian-persistence-Capitalbased-business-cycle-theory-and-the-dynamics-of-investment-spending_2006_.pdf from PDF to TEI...\n"
     ]
    },
    {
     "name": "stderr",
     "output_type": "stream",
     "text": [
      "Processando arquivos:   0%|          | 0/21 [01:40<?, ?file/s]"
     ]
    },
    {
     "name": "stdout",
     "output_type": "stream",
     "text": [
      "Processed Austrian-persistence-Capitalbased-business-cycle-theory-and-the-dynamics-of-investment-spending_2006_.pdf -> ..\\data/interim\\Austrian-persistence-Capitalbased-business-cycle-theory-and-the-dynamics-of-investment-spending_2006_.pdf.grobid.tei.xml\n"
     ]
    },
    {
     "name": "stderr",
     "output_type": "stream",
     "text": [
      "Processando arquivos:   5%|▍         | 1/21 [02:00<40:13, 120.68s/file]"
     ]
    },
    {
     "name": "stdout",
     "output_type": "stream",
     "text": [
      "Trying to extract C:/Users/anton/OneDrive/Área de Trabalho/extracao/data/raw\\Motivational-Objects-in-Natural-Scenes-MONS-A-database-of-gt-800-objects_2017_Frontiers-Media-SA-infofront.pdf from PDF to TEI...\n"
     ]
    },
    {
     "name": "stderr",
     "output_type": "stream",
     "text": [
      "Processando arquivos:   5%|▍         | 1/21 [03:26<40:13, 120.68s/file]"
     ]
    },
    {
     "name": "stdout",
     "output_type": "stream",
     "text": [
      "Processed Motivational-Objects-in-Natural-Scenes-MONS-A-database-of-gt-800-objects_2017_Frontiers-Media-SA-infofront.pdf -> ..\\data/interim\\Motivational-Objects-in-Natural-Scenes-MONS-A-database-of-gt-800-objects_2017_Frontiers-Media-SA-infofront.pdf.grobid.tei.xml\n"
     ]
    },
    {
     "name": "stderr",
     "output_type": "stream",
     "text": [
      "Processando arquivos:  10%|▉         | 2/21 [03:46<35:29, 112.07s/file]"
     ]
    },
    {
     "name": "stdout",
     "output_type": "stream",
     "text": [
      "Trying to extract C:/Users/anton/OneDrive/Área de Trabalho/extracao/data/raw\\What-Can-Industrial-Policy-Do-Evidence-from-Singapore_2024_Springer (1).pdf from PDF to TEI...\n"
     ]
    },
    {
     "name": "stderr",
     "output_type": "stream",
     "text": [
      "Processando arquivos:  10%|▉         | 2/21 [05:18<35:29, 112.07s/file]"
     ]
    },
    {
     "name": "stdout",
     "output_type": "stream",
     "text": [
      "Processed What-Can-Industrial-Policy-Do-Evidence-from-Singapore_2024_Springer (1).pdf -> ..\\data/interim\\What-Can-Industrial-Policy-Do-Evidence-from-Singapore_2024_Springer (1).pdf.grobid.tei.xml\n"
     ]
    },
    {
     "name": "stderr",
     "output_type": "stream",
     "text": [
      "Processando arquivos:  14%|█▍        | 3/21 [05:38<33:38, 112.12s/file]"
     ]
    },
    {
     "name": "stdout",
     "output_type": "stream",
     "text": [
      "Trying to extract C:/Users/anton/OneDrive/Área de Trabalho/extracao/data/raw\\On-predictive-entrepreneurial-action-in-uncertain-illstructured-conditions_2021_Springer-Science-and-Busin.pdf from PDF to TEI...\n"
     ]
    },
    {
     "name": "stderr",
     "output_type": "stream",
     "text": [
      "Processando arquivos:  14%|█▍        | 3/21 [06:44<33:38, 112.12s/file]"
     ]
    },
    {
     "name": "stdout",
     "output_type": "stream",
     "text": [
      "Processed On-predictive-entrepreneurial-action-in-uncertain-illstructured-conditions_2021_Springer-Science-and-Busin.pdf -> ..\\data/interim\\On-predictive-entrepreneurial-action-in-uncertain-illstructured-conditions_2021_Springer-Science-and-Busin.pdf.grobid.tei.xml\n"
     ]
    },
    {
     "name": "stderr",
     "output_type": "stream",
     "text": [
      "Processando arquivos:  19%|█▉        | 4/21 [07:04<28:45, 101.52s/file]"
     ]
    },
    {
     "name": "stdout",
     "output_type": "stream",
     "text": [
      "Trying to extract C:/Users/anton/OneDrive/Área de Trabalho/extracao/data/raw\\The-philosophical-contributions-of-Ludwig-von-Mises_1994_Kluwer-Academic-Publishers.pdf from PDF to TEI...\n"
     ]
    },
    {
     "name": "stderr",
     "output_type": "stream",
     "text": [
      "Processando arquivos:  19%|█▉        | 4/21 [07:22<28:45, 101.52s/file]"
     ]
    },
    {
     "name": "stdout",
     "output_type": "stream",
     "text": [
      "Processed The-philosophical-contributions-of-Ludwig-von-Mises_1994_Kluwer-Academic-Publishers.pdf -> ..\\data/interim\\The-philosophical-contributions-of-Ludwig-von-Mises_1994_Kluwer-Academic-Publishers.pdf.grobid.tei.xml\n"
     ]
    },
    {
     "name": "stderr",
     "output_type": "stream",
     "text": [
      "Processando arquivos:  24%|██▍       | 5/21 [07:42<20:57, 78.61s/file] "
     ]
    },
    {
     "name": "stdout",
     "output_type": "stream",
     "text": [
      "Trying to extract C:/Users/anton/OneDrive/Área de Trabalho/extracao/data/raw\\A-Historical-Intervention-in-the-Opportunity-Wars-Forgotten-Scholarship-the-DiscoveryCreation-Disruption-a.pdf from PDF to TEI...\n"
     ]
    },
    {
     "name": "stderr",
     "output_type": "stream",
     "text": [
      "Processando arquivos:  24%|██▍       | 5/21 [09:05<20:57, 78.61s/file]"
     ]
    },
    {
     "name": "stdout",
     "output_type": "stream",
     "text": [
      "Processed A-Historical-Intervention-in-the-Opportunity-Wars-Forgotten-Scholarship-the-DiscoveryCreation-Disruption-a.pdf -> ..\\data/interim\\A-Historical-Intervention-in-the-Opportunity-Wars-Forgotten-Scholarship-the-DiscoveryCreation-Disruption-a.pdf.grobid.tei.xml\n"
     ]
    },
    {
     "name": "stderr",
     "output_type": "stream",
     "text": [
      "Processando arquivos:  29%|██▊       | 6/21 [09:25<21:47, 87.16s/file]"
     ]
    },
    {
     "name": "stdout",
     "output_type": "stream",
     "text": [
      "Trying to extract C:/Users/anton/OneDrive/Área de Trabalho/extracao/data/raw\\Conserving-Forests-in-Privatized-Commons-Trends-and-Management-Options-in-an-Ifugao-Village-Philippines_20.pdf from PDF to TEI...\n"
     ]
    },
    {
     "name": "stderr",
     "output_type": "stream",
     "text": [
      "Processando arquivos:  29%|██▊       | 6/21 [09:54<21:47, 87.16s/file]"
     ]
    },
    {
     "name": "stdout",
     "output_type": "stream",
     "text": [
      "Processed Conserving-Forests-in-Privatized-Commons-Trends-and-Management-Options-in-an-Ifugao-Village-Philippines_20.pdf -> ..\\data/interim\\Conserving-Forests-in-Privatized-Commons-Trends-and-Management-Options-in-an-Ifugao-Village-Philippines_20.pdf.grobid.tei.xml\n"
     ]
    },
    {
     "name": "stderr",
     "output_type": "stream",
     "text": [
      "Processando arquivos:  33%|███▎      | 7/21 [10:14<17:25, 74.69s/file]"
     ]
    },
    {
     "name": "stdout",
     "output_type": "stream",
     "text": [
      "Trying to extract C:/Users/anton/OneDrive/Área de Trabalho/extracao/data/raw\\Ideology-and-the-international-economy-The-decline-and-fall-of-bretton-woods_2003_Palgrave-Macmillan.pdf from PDF to TEI...\n"
     ]
    },
    {
     "name": "stderr",
     "output_type": "stream",
     "text": [
      "Processando arquivos:  33%|███▎      | 7/21 [18:27<17:25, 74.69s/file]"
     ]
    },
    {
     "name": "stdout",
     "output_type": "stream",
     "text": [
      "Processed Ideology-and-the-international-economy-The-decline-and-fall-of-bretton-woods_2003_Palgrave-Macmillan.pdf -> ..\\data/interim\\Ideology-and-the-international-economy-The-decline-and-fall-of-bretton-woods_2003_Palgrave-Macmillan.pdf.grobid.tei.xml\n"
     ]
    },
    {
     "name": "stderr",
     "output_type": "stream",
     "text": [
      "Processando arquivos:  38%|███▊      | 8/21 [18:47<46:24, 214.22s/file]"
     ]
    },
    {
     "name": "stdout",
     "output_type": "stream",
     "text": [
      "Trying to extract C:/Users/anton/OneDrive/Área de Trabalho/extracao/data/raw\\Otto-Neuraths-Scientific-Utopianism-RevisitedA-Refined-Model-for-Utopias-in-Thought-Experiments_2023_Sprin.pdf from PDF to TEI...\n"
     ]
    },
    {
     "name": "stderr",
     "output_type": "stream",
     "text": [
      "Processando arquivos:  38%|███▊      | 8/21 [19:29<46:24, 214.22s/file]"
     ]
    },
    {
     "name": "stdout",
     "output_type": "stream",
     "text": [
      "Processed Otto-Neuraths-Scientific-Utopianism-RevisitedA-Refined-Model-for-Utopias-in-Thought-Experiments_2023_Sprin.pdf -> ..\\data/interim\\Otto-Neuraths-Scientific-Utopianism-RevisitedA-Refined-Model-for-Utopias-in-Thought-Experiments_2023_Sprin.pdf.grobid.tei.xml\n"
     ]
    },
    {
     "name": "stderr",
     "output_type": "stream",
     "text": [
      "Processando arquivos:  43%|████▎     | 9/21 [19:49<33:16, 166.40s/file]"
     ]
    },
    {
     "name": "stdout",
     "output_type": "stream",
     "text": [
      "Trying to extract C:/Users/anton/OneDrive/Área de Trabalho/extracao/data/raw\\THE-CENTRAL-BANKING-SYSTEM-PARADOX_2023_Centre-of-Sociological-Research.pdf from PDF to TEI...\n"
     ]
    },
    {
     "name": "stderr",
     "output_type": "stream",
     "text": [
      "Processando arquivos:  43%|████▎     | 9/21 [20:13<33:16, 166.40s/file]"
     ]
    },
    {
     "name": "stdout",
     "output_type": "stream",
     "text": [
      "Processed THE-CENTRAL-BANKING-SYSTEM-PARADOX_2023_Centre-of-Sociological-Research.pdf -> ..\\data/interim\\THE-CENTRAL-BANKING-SYSTEM-PARADOX_2023_Centre-of-Sociological-Research.pdf.grobid.tei.xml\n"
     ]
    },
    {
     "name": "stderr",
     "output_type": "stream",
     "text": [
      "Processando arquivos:  48%|████▊     | 10/21 [20:33<23:36, 128.73s/file]"
     ]
    },
    {
     "name": "stdout",
     "output_type": "stream",
     "text": [
      "Trying to extract C:/Users/anton/OneDrive/Área de Trabalho/extracao/data/raw\\The-HarvardMIT-complexity-approach-to-development-and-Austrian-economics-Similarities-and-policy-implicati.pdf from PDF to TEI...\n"
     ]
    },
    {
     "name": "stderr",
     "output_type": "stream",
     "text": [
      "Processando arquivos:  48%|████▊     | 10/21 [21:07<23:36, 128.73s/file]"
     ]
    },
    {
     "name": "stdout",
     "output_type": "stream",
     "text": [
      "Processed The-HarvardMIT-complexity-approach-to-development-and-Austrian-economics-Similarities-and-policy-implicati.pdf -> ..\\data/interim\\The-HarvardMIT-complexity-approach-to-development-and-Austrian-economics-Similarities-and-policy-implicati.pdf.grobid.tei.xml\n"
     ]
    },
    {
     "name": "stderr",
     "output_type": "stream",
     "text": [
      "Processando arquivos:  52%|█████▏    | 11/21 [21:27<17:37, 105.78s/file]"
     ]
    },
    {
     "name": "stdout",
     "output_type": "stream",
     "text": [
      "Trying to extract C:/Users/anton/OneDrive/Área de Trabalho/extracao/data/raw\\Austrian-Economics-and-Compatibilist-Freedom_2024_Springer-Science-and-Business-Media-BV.pdf from PDF to TEI...\n"
     ]
    },
    {
     "name": "stderr",
     "output_type": "stream",
     "text": [
      "Processando arquivos:  52%|█████▏    | 11/21 [22:03<17:37, 105.78s/file]"
     ]
    },
    {
     "name": "stdout",
     "output_type": "stream",
     "text": [
      "Processed Austrian-Economics-and-Compatibilist-Freedom_2024_Springer-Science-and-Business-Media-BV.pdf -> ..\\data/interim\\Austrian-Economics-and-Compatibilist-Freedom_2024_Springer-Science-and-Business-Media-BV.pdf.grobid.tei.xml\n"
     ]
    },
    {
     "name": "stderr",
     "output_type": "stream",
     "text": [
      "Processando arquivos:  57%|█████▋    | 12/21 [22:23<13:36, 90.77s/file] "
     ]
    },
    {
     "name": "stdout",
     "output_type": "stream",
     "text": [
      "Trying to extract C:/Users/anton/OneDrive/Área de Trabalho/extracao/data/raw\\Entrepreneurship-in-transitional-economy_2011_.pdf from PDF to TEI...\n"
     ]
    },
    {
     "name": "stderr",
     "output_type": "stream",
     "text": [
      "Processando arquivos:  57%|█████▋    | 12/21 [23:00<13:36, 90.77s/file]"
     ]
    },
    {
     "name": "stdout",
     "output_type": "stream",
     "text": [
      "Processed Entrepreneurship-in-transitional-economy_2011_.pdf -> ..\\data/interim\\Entrepreneurship-in-transitional-economy_2011_.pdf.grobid.tei.xml\n"
     ]
    },
    {
     "name": "stderr",
     "output_type": "stream",
     "text": [
      "Processando arquivos:  62%|██████▏   | 13/21 [23:20<10:44, 80.59s/file]"
     ]
    },
    {
     "name": "stdout",
     "output_type": "stream",
     "text": [
      "Trying to extract C:/Users/anton/OneDrive/Área de Trabalho/extracao/data/raw\\Constructivism-individual-action-and-housing-finance-An-individualist-critique-of-approaches-to-housing-fi.pdf from PDF to TEI...\n"
     ]
    },
    {
     "name": "stderr",
     "output_type": "stream",
     "text": [
      "Processando arquivos:  62%|██████▏   | 13/21 [23:37<10:44, 80.59s/file]"
     ]
    },
    {
     "name": "stdout",
     "output_type": "stream",
     "text": [
      "Processed Constructivism-individual-action-and-housing-finance-An-individualist-critique-of-approaches-to-housing-fi.pdf -> ..\\data/interim\\Constructivism-individual-action-and-housing-finance-An-individualist-critique-of-approaches-to-housing-fi.pdf.grobid.tei.xml\n"
     ]
    },
    {
     "name": "stderr",
     "output_type": "stream",
     "text": [
      "Processando arquivos:  67%|██████▋   | 14/21 [23:57<07:51, 67.42s/file]"
     ]
    },
    {
     "name": "stdout",
     "output_type": "stream",
     "text": [
      "Trying to extract C:/Users/anton/OneDrive/Área de Trabalho/extracao/data/raw\\The-Trait-of-Extraversion-as-an-EnergyBased-Determinant-of-Entrepreneurs-SuccessThe-Case-of-Poland_2022_MD.pdf from PDF to TEI...\n"
     ]
    },
    {
     "name": "stderr",
     "output_type": "stream",
     "text": [
      "Processando arquivos:  67%|██████▋   | 14/21 [24:33<07:51, 67.42s/file]"
     ]
    },
    {
     "name": "stdout",
     "output_type": "stream",
     "text": [
      "Processed The-Trait-of-Extraversion-as-an-EnergyBased-Determinant-of-Entrepreneurs-SuccessThe-Case-of-Poland_2022_MD.pdf -> ..\\data/interim\\The-Trait-of-Extraversion-as-an-EnergyBased-Determinant-of-Entrepreneurs-SuccessThe-Case-of-Poland_2022_MD.pdf.grobid.tei.xml\n"
     ]
    },
    {
     "name": "stderr",
     "output_type": "stream",
     "text": [
      "Processando arquivos:  71%|███████▏  | 15/21 [24:53<06:23, 63.97s/file]"
     ]
    },
    {
     "name": "stdout",
     "output_type": "stream",
     "text": [
      "Trying to extract C:/Users/anton/OneDrive/Área de Trabalho/extracao/data/raw\\The-Perils-of-Regulating-COVID19-Insights-from-Kirznerian-Entrepreneurship-and-Ostromian-Polycentricity_20.pdf from PDF to TEI...\n"
     ]
    },
    {
     "name": "stderr",
     "output_type": "stream",
     "text": [
      "Processando arquivos:  71%|███████▏  | 15/21 [25:24<06:23, 63.97s/file]"
     ]
    },
    {
     "name": "stdout",
     "output_type": "stream",
     "text": [
      "Processed The-Perils-of-Regulating-COVID19-Insights-from-Kirznerian-Entrepreneurship-and-Ostromian-Polycentricity_20.pdf -> ..\\data/interim\\The-Perils-of-Regulating-COVID19-Insights-from-Kirznerian-Entrepreneurship-and-Ostromian-Polycentricity_20.pdf.grobid.tei.xml\n"
     ]
    },
    {
     "name": "stderr",
     "output_type": "stream",
     "text": [
      "Processando arquivos:  76%|███████▌  | 16/21 [25:44<04:59, 59.92s/file]"
     ]
    },
    {
     "name": "stdout",
     "output_type": "stream",
     "text": [
      "Trying to extract C:/Users/anton/OneDrive/Área de Trabalho/extracao/data/raw\\Entrepreneurship-research-mapping-intellectual-structures-and-research-trends_2019_Springer-Verlag-service.pdf from PDF to TEI...\n"
     ]
    },
    {
     "name": "stderr",
     "output_type": "stream",
     "text": [
      "Processando arquivos:  76%|███████▌  | 16/21 [26:42<04:59, 59.92s/file]"
     ]
    },
    {
     "name": "stdout",
     "output_type": "stream",
     "text": [
      "Processed Entrepreneurship-research-mapping-intellectual-structures-and-research-trends_2019_Springer-Verlag-service.pdf -> ..\\data/interim\\Entrepreneurship-research-mapping-intellectual-structures-and-research-trends_2019_Springer-Verlag-service.pdf.grobid.tei.xml\n"
     ]
    },
    {
     "name": "stderr",
     "output_type": "stream",
     "text": [
      "Processando arquivos:  81%|████████  | 17/21 [27:02<04:21, 65.42s/file]"
     ]
    },
    {
     "name": "stdout",
     "output_type": "stream",
     "text": [
      "Trying to extract C:/Users/anton/OneDrive/Área de Trabalho/extracao/data/raw\\Innovative-entrepreneurship-as-a-collaborative-effort-An-institutional-framework_2021_Now-Publishers-Inc.pdf from PDF to TEI...\n"
     ]
    },
    {
     "name": "stderr",
     "output_type": "stream",
     "text": [
      "Processando arquivos:  81%|████████  | 17/21 [28:31<04:21, 65.42s/file]"
     ]
    },
    {
     "name": "stdout",
     "output_type": "stream",
     "text": [
      "Processed Innovative-entrepreneurship-as-a-collaborative-effort-An-institutional-framework_2021_Now-Publishers-Inc.pdf -> ..\\data/interim\\Innovative-entrepreneurship-as-a-collaborative-effort-An-institutional-framework_2021_Now-Publishers-Inc.pdf.grobid.tei.xml\n"
     ]
    },
    {
     "name": "stderr",
     "output_type": "stream",
     "text": [
      "Processando arquivos:  86%|████████▌ | 18/21 [28:51<03:55, 78.42s/file]"
     ]
    },
    {
     "name": "stdout",
     "output_type": "stream",
     "text": [
      "Trying to extract C:/Users/anton/OneDrive/Área de Trabalho/extracao/data/raw\\Demonstrated-risk-preferences-and-COVID19-regulations-in-the-United-States_2024_Springer.pdf from PDF to TEI...\n"
     ]
    },
    {
     "name": "stderr",
     "output_type": "stream",
     "text": [
      "Processando arquivos:  86%|████████▌ | 18/21 [29:31<03:55, 78.42s/file]"
     ]
    },
    {
     "name": "stdout",
     "output_type": "stream",
     "text": [
      "Processed Demonstrated-risk-preferences-and-COVID19-regulations-in-the-United-States_2024_Springer.pdf -> ..\\data/interim\\Demonstrated-risk-preferences-and-COVID19-regulations-in-the-United-States_2024_Springer.pdf.grobid.tei.xml\n"
     ]
    },
    {
     "name": "stderr",
     "output_type": "stream",
     "text": [
      "Processando arquivos:  90%|█████████ | 19/21 [29:51<02:25, 72.86s/file]"
     ]
    },
    {
     "name": "stdout",
     "output_type": "stream",
     "text": [
      "Trying to extract C:/Users/anton/OneDrive/Área de Trabalho/extracao/data/raw\\Editorial-Private-is-profit-and-the-public-is-dead_2018_Routledge-infotandfcouk (1).pdf from PDF to TEI...\n"
     ]
    },
    {
     "name": "stderr",
     "output_type": "stream",
     "text": [
      "Processando arquivos:  90%|█████████ | 19/21 [30:03<02:25, 72.86s/file]"
     ]
    },
    {
     "name": "stdout",
     "output_type": "stream",
     "text": [
      "Processed Editorial-Private-is-profit-and-the-public-is-dead_2018_Routledge-infotandfcouk (1).pdf -> ..\\data/interim\\Editorial-Private-is-profit-and-the-public-is-dead_2018_Routledge-infotandfcouk (1).pdf.grobid.tei.xml\n"
     ]
    },
    {
     "name": "stderr",
     "output_type": "stream",
     "text": [
      "Processando arquivos:  95%|█████████▌| 20/21 [30:23<01:00, 60.57s/file]"
     ]
    },
    {
     "name": "stdout",
     "output_type": "stream",
     "text": [
      "Trying to extract C:/Users/anton/OneDrive/Área de Trabalho/extracao/data/raw\\Editorial-Private-is-profit-and-the-public-is-dead_2018_Routledge-infotandfcouk.pdf from PDF to TEI...\n"
     ]
    },
    {
     "name": "stderr",
     "output_type": "stream",
     "text": [
      "Processando arquivos:  95%|█████████▌| 20/21 [30:28<01:00, 60.57s/file]"
     ]
    },
    {
     "name": "stdout",
     "output_type": "stream",
     "text": [
      "Processed Editorial-Private-is-profit-and-the-public-is-dead_2018_Routledge-infotandfcouk.pdf -> ..\\data/interim\\Editorial-Private-is-profit-and-the-public-is-dead_2018_Routledge-infotandfcouk.pdf.grobid.tei.xml\n"
     ]
    },
    {
     "name": "stderr",
     "output_type": "stream",
     "text": [
      "Processando arquivos: 100%|██████████| 21/21 [30:48<00:00, 88.04s/file]\n"
     ]
    }
   ],
   "source": [
    "import subprocess\n",
    "import time\n",
    "import random\n",
    "import os\n",
    "from tqdm import tqdm \n",
    "\n",
    "# Sort files by size (smallest first)\n",
    "files.sort(key=lambda x: x[1])\n",
    "random.shuffle(files)\n",
    "\n",
    "# Process each file in order of size com tqdm\n",
    "for file_path, file_size in tqdm(files, desc=\"Processando arquivos\", unit=\"file\"):\n",
    "    # Skip processing if the file size is zero\n",
    "    if file_size == 0:\n",
    "        tqdm.write(f\"Skipped {file_path} (file size is zero)\")\n",
    "        continue\n",
    "\n",
    "    # Extract the filename from the path\n",
    "    filename = os.path.basename(file_path)\n",
    "\n",
    "    # Prepare the output filename\n",
    "    output_filename = f\"{filename}.grobid.tei.xml\"\n",
    "    output_file_path = os.path.join(output_path, output_filename)\n",
    "\n",
    "    # Check if the output file exists and its size is greater than 0\n",
    "    if not os.path.exists(output_file_path) or os.path.getsize(output_file_path) == 0:\n",
    "        # Prepare the curl command\n",
    "        tqdm.write(f\"Trying to extract {file_path} from PDF to TEI...\")\n",
    "\n",
    "           \n",
    "        curl_command = [\n",
    "            \"curl\", \"-v\", \n",
    "            \"-H\", \"Accept: application/xml\", \n",
    "            \"--form\", \"consolidateCitations=1\", \n",
    "            \"--form\", \"includeRawCitations=1\", \n",
    "            \"--form\", \"segmentSentences=1\",\n",
    "            \"--form\", \"generateIDs=1\", \n",
    "            \"--form\", f\"input=@{file_path}\", \n",
    "            f\"{grobid_server}/api/processFulltextDocument\",\n",
    "        ]\n",
    "\n",
    "        # Open the output file to redirect the curl output into it\n",
    "        with open(output_file_path, \"w\") as output_file:\n",
    "            try:\n",
    "                # Run the process with a timeout of 10 minutes (600 seconds)\n",
    "                result = subprocess.run(curl_command, stdout=output_file, stderr=subprocess.PIPE, timeout=600)\n",
    "                #if result.stderr:\n",
    "                #    tqdm.write(\"STDERR:\")\n",
    "                #    tqdm.write(result.stderr.decode())\n",
    "\n",
    "            except subprocess.TimeoutExpired:\n",
    "                tqdm.write(\"The process did not finish within 10 minutes and was terminated.\")\n",
    "\n",
    "        # Check if the output file size is zero\n",
    "        if os.path.getsize(output_file_path) == 0:\n",
    "            tqdm.write(f\"{output_file_path} is empty. NOT PROCESSED.\")\n",
    "        else:\n",
    "            tqdm.write(f\"Processed {filename} -> {output_file_path}\")\n",
    "            time.sleep(20)\n",
    "    else:\n",
    "        tqdm.write(f\"Skipped {filename} (output file already exists and is non-empty)\")"
   ]
  },
  {
   "cell_type": "code",
   "execution_count": 11,
   "id": "19cb023b",
   "metadata": {},
   "outputs": [
    {
     "name": "stdout",
     "output_type": "stream",
     "text": [
      "['data']\n"
     ]
    }
   ],
   "source": [
    "import re\n",
    "\n",
    "text = \"Data science is cool as you get to work with real-world data\"\n",
    "matches = re.findall(r\"data\", text)\n",
    "print(matches) "
   ]
  },
  {
   "cell_type": "code",
   "execution_count": 12,
   "id": "4edd2361",
   "metadata": {},
   "outputs": [
    {
     "name": "stdout",
     "output_type": "stream",
     "text": [
      "['Data', 'data']\n"
     ]
    }
   ],
   "source": [
    "matches = re.findall(r\"data\", text, re.IGNORECASE)\n",
    "print(matches)  "
   ]
  },
  {
   "cell_type": "code",
   "execution_count": 13,
   "id": "b5ae6e57",
   "metadata": {},
   "outputs": [
    {
     "name": "stdout",
     "output_type": "stream",
     "text": [
      "['(11) 98765-4321', '(21) 3456-7890']\n"
     ]
    }
   ],
   "source": [
    "texto = \"Ligue para (11) 98765-4321 ou (21) 3456-7890\"\n",
    "telefones = re.findall(r\"\\(\\d{2}\\)\\s?\\d{4,5}-\\d{4}\", texto)\n",
    "print(telefones) "
   ]
  },
  {
   "cell_type": "code",
   "execution_count": 14,
   "id": "88e72d69",
   "metadata": {},
   "outputs": [
    {
     "name": "stdout",
     "output_type": "stream",
     "text": [
      "['(11) 98765-4321', '(21) 3456-7890', '99215-0859']\n"
     ]
    }
   ],
   "source": [
    "texto = \"Ligue para (11) 98765-4321 ou (21) 3456-7890, ou 99215-0859\"\n",
    "telefones = re.findall(r\"\\(\\d{2}\\)\\s?\\d{4,5}-\\d{4}\", texto)\n",
    "telefones = re.findall(r\"(?:\\(\\d{2}\\)\\s?)?\\d{4,5}-\\d{4}\", texto)\n",
    "\n",
    "print(telefones) "
   ]
  },
  {
   "cell_type": "code",
   "execution_count": 15,
   "id": "2c8c2b4d",
   "metadata": {},
   "outputs": [
    {
     "name": "stdout",
     "output_type": "stream",
     "text": [
      "['pedro.calais@gmail.com', 'pcalais@dcc.ufmg.br']\n"
     ]
    }
   ],
   "source": [
    "texto = \"Estes sao meus email: pedro.calais@gmail.com e pcalais@dcc.ufmg.br\"\n",
    "textos = re.findall(r\"[a-zA-Z0-9._%+-]+@[a-zA-Z0-9.-]+\\.[a-zA-Z]{2,}\", texto)\n",
    "print(textos)"
   ]
  }
 ],
 "metadata": {
  "kernelspec": {
   "display_name": "Python 3",
   "language": "python",
   "name": "python3"
  },
  "language_info": {
   "codemirror_mode": {
    "name": "ipython",
    "version": 3
   },
   "file_extension": ".py",
   "mimetype": "text/x-python",
   "name": "python",
   "nbconvert_exporter": "python",
   "pygments_lexer": "ipython3",
   "version": "3.11.9"
  }
 },
 "nbformat": 4,
 "nbformat_minor": 5
}
